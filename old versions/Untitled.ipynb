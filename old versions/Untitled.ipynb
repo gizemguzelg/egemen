{
 "cells": [
  {
   "cell_type": "code",
   "execution_count": 1,
   "id": "ce1e5334",
   "metadata": {},
   "outputs": [
    {
     "ename": "ImportError",
     "evalue": "attempted relative import with no known parent package",
     "output_type": "error",
     "traceback": [
      "\u001b[1;31m---------------------------------------------------------------------------\u001b[0m",
      "\u001b[1;31mImportError\u001b[0m                               Traceback (most recent call last)",
      "Input \u001b[1;32mIn [1]\u001b[0m, in \u001b[0;36m<cell line: 5>\u001b[1;34m()\u001b[0m\n\u001b[0;32m      2\u001b[0m \u001b[38;5;28;01mimport\u001b[39;00m \u001b[38;5;21;01mnumpy\u001b[39;00m \u001b[38;5;28;01mas\u001b[39;00m \u001b[38;5;21;01mnp\u001b[39;00m\n\u001b[0;32m      3\u001b[0m \u001b[38;5;28;01mimport\u001b[39;00m \u001b[38;5;21;01mpandas\u001b[39;00m \u001b[38;5;28;01mas\u001b[39;00m \u001b[38;5;21;01mpd\u001b[39;00m\n\u001b[1;32m----> 5\u001b[0m \u001b[38;5;28;01mfrom\u001b[39;00m \u001b[38;5;21;01m.\u001b[39;00m \u001b[38;5;28;01mimport\u001b[39;00m mfa\n\u001b[0;32m      8\u001b[0m \u001b[38;5;28;01mclass\u001b[39;00m \u001b[38;5;21;01mFAMD\u001b[39;00m(mfa\u001b[38;5;241m.\u001b[39mMFA):\n\u001b[0;32m     10\u001b[0m     \u001b[38;5;28;01mdef\u001b[39;00m \u001b[38;5;21m__init__\u001b[39m(\u001b[38;5;28mself\u001b[39m, n_components\u001b[38;5;241m=\u001b[39m\u001b[38;5;241m2\u001b[39m, n_iter\u001b[38;5;241m=\u001b[39m\u001b[38;5;241m3\u001b[39m, copy\u001b[38;5;241m=\u001b[39m\u001b[38;5;28;01mTrue\u001b[39;00m, check_input\u001b[38;5;241m=\u001b[39m\u001b[38;5;28;01mTrue\u001b[39;00m, random_state\u001b[38;5;241m=\u001b[39m\u001b[38;5;28;01mNone\u001b[39;00m,\n\u001b[0;32m     11\u001b[0m                  engine\u001b[38;5;241m=\u001b[39m\u001b[38;5;124m'\u001b[39m\u001b[38;5;124mauto\u001b[39m\u001b[38;5;124m'\u001b[39m):\n",
      "\u001b[1;31mImportError\u001b[0m: attempted relative import with no known parent package"
     ]
    }
   ],
   "source": [
    "\"\"\"Factor Analysis of Mixed Data (FAMD)\"\"\"\n",
    "import numpy as np\n",
    "import pandas as pd\n",
    "\n",
    "from . import mfa\n",
    "\n",
    "\n",
    "class FAMD(mfa.MFA):\n",
    "\n",
    "    def __init__(self, n_components=2, n_iter=3, copy=True, check_input=True, random_state=None,\n",
    "                 engine='auto'):\n",
    "        super().__init__(\n",
    "            groups=None,\n",
    "            normalize=True,\n",
    "            n_components=n_components,\n",
    "            n_iter=n_iter,\n",
    "            copy=copy,\n",
    "            check_input=check_input,\n",
    "            random_state=random_state,\n",
    "            engine=engine\n",
    "        )\n",
    "\n",
    "    def fit(self, X, y=None):\n",
    "\n",
    "        if isinstance(X, np.ndarray):\n",
    "            X = pd.DataFrame(X)\n",
    "\n",
    "        # Separate numerical columns from categorical columns\n",
    "        num_cols = X.select_dtypes(np.number).columns.tolist()\n",
    "        cat_cols = list(set(X.columns) - set(num_cols))\n",
    "\n",
    "        # Make one group per variable type\n",
    "        self.groups = {}\n",
    "        if num_cols:\n",
    "            self.groups['Numerical'] = num_cols\n",
    "        else:\n",
    "            raise ValueError('FAMD works with categorical and numerical data but ' +\n",
    "                             'you only have categorical data; you should consider using MCA')\n",
    "        if cat_cols:\n",
    "            self.groups['Categorical'] = cat_cols\n",
    "        else:\n",
    "            raise ValueError('FAMD works with categorical and numerical data but ' +\n",
    "                             'you only have numerical data; you should consider using PCA')\n",
    "\n",
    "        return super().fit(X)"
   ]
  },
  {
   "cell_type": "code",
   "execution_count": null,
   "id": "d01a1d52",
   "metadata": {},
   "outputs": [],
   "source": []
  }
 ],
 "metadata": {
  "kernelspec": {
   "display_name": "Python 3 (ipykernel)",
   "language": "python",
   "name": "python3"
  },
  "language_info": {
   "codemirror_mode": {
    "name": "ipython",
    "version": 3
   },
   "file_extension": ".py",
   "mimetype": "text/x-python",
   "name": "python",
   "nbconvert_exporter": "python",
   "pygments_lexer": "ipython3",
   "version": "3.9.12"
  }
 },
 "nbformat": 4,
 "nbformat_minor": 5
}
